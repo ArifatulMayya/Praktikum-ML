{
  "nbformat": 4,
  "nbformat_minor": 0,
  "metadata": {
    "colab": {
      "provenance": []
    },
    "kernelspec": {
      "name": "python3",
      "display_name": "Python 3"
    },
    "language_info": {
      "name": "python"
    }
  },
  "cells": [
    {
      "cell_type": "markdown",
      "source": [
        "**Import Libraries**"
      ],
      "metadata": {
        "id": "mAj0893wy6rj"
      }
    },
    {
      "cell_type": "code",
      "source": [
        "import numpy as np\n",
        "import pandas as pd\n",
        "from sklearn import model_selection\n",
        "from sklearn.neighbors import KNeighborsClassifier\n",
        "from sklearn.naive_bayes import GaussianNB\n",
        "from sklearn.svm import SVC\n",
        "from sklearn.metrics import accuracy_score, confusion_matrix, classification_report\n"
      ],
      "metadata": {
        "id": "D5E7pWGFy8XH"
      },
      "execution_count": 13,
      "outputs": []
    },
    {
      "cell_type": "markdown",
      "source": [
        "Bagian ini mengimpor semua library yang dibutuhkan untuk melakukan analisis. Library numpy dan pandas digunakan untuk manipulasi data, sementara scikit-learn menyediakan berbagai alat untuk membangun dan mengevaluasi model machine learning, seperti model_selection untuk validasi silang, berbagai model klasifikasi (KNN, Naive Bayes, dan SVM), serta metrik evaluasi."
      ],
      "metadata": {
        "id": "9LN8xBWrzA1g"
      }
    },
    {
      "cell_type": "markdown",
      "source": [
        "**Membuat Validasi Dataset**\n"
      ],
      "metadata": {
        "id": "naWYD_VM0TmC"
      }
    },
    {
      "cell_type": "code",
      "source": [
        "# Memuat dataset dan menyiapkan data fitur (X) dan label (Y)\n",
        "# Asumsikan dataset telah dimuat ke dalam variabel `dataset`\n",
        "array = dataset.values\n",
        "X = array[:, 0:4]  # Fitur\n",
        "Y = array[:, 4]    # Label\n",
        "\n",
        "# Membagi dataset menjadi data latih dan data validasi\n",
        "validation_size = 0.20\n",
        "seed = 7\n",
        "X_train, X_validation, Y_train, Y_validation = model_selection.train_test_split(X, Y, test_size=validation_size, random_state=seed)\n"
      ],
      "metadata": {
        "id": "PZ3WrfI0zzM2"
      },
      "execution_count": 15,
      "outputs": []
    },
    {
      "cell_type": "markdown",
      "source": [
        "Pada bagian ini, dataset dibagi menjadi dua bagian, yaitu data latih (80%) dan data validasi (20%). Pembagian ini bertujuan untuk memastikan bahwa model diuji pada data yang belum pernah dilihatnya sebelumnya, sehingga hasil akurasi yang diperoleh mencerminkan performa model secara objektif. Variabel seed digunakan untuk memastikan bahwa hasil pembagian data konsisten setiap kali kode dijalankan."
      ],
      "metadata": {
        "id": "FF_9xjbCz1O3"
      }
    },
    {
      "cell_type": "markdown",
      "source": [
        "**K-Folds Cross Validation**"
      ],
      "metadata": {
        "id": "b7f0kceWz266"
      }
    },
    {
      "cell_type": "code",
      "source": [
        "# Mengatur parameter untuk cross-validation\n",
        "seed = 7\n",
        "kfold = model_selection.KFold(n_splits=10, random_state=seed, shuffle=True)\n",
        "scoring = 'accuracy'\n"
      ],
      "metadata": {
        "id": "myTD2eYtz5fP"
      },
      "execution_count": 16,
      "outputs": []
    },
    {
      "cell_type": "markdown",
      "source": [
        "Cross-validation (validasi silang) dengan 10-fold digunakan di sini. Teknik ini membagi data latih menjadi 10 subset (fold), di mana setiap fold bergantian menjadi data uji, sementara fold lainnya menjadi data latih. Proses ini diulang 10 kali, sehingga setiap subset data digunakan untuk pengujian satu kali. Hasil dari 10 pengujian ini kemudian dirata-rata untuk memberikan estimasi akurasi yang lebih stabil. Parameter scoring diatur ke accuracy untuk menghitung akurasi sebagai metrik evaluasi."
      ],
      "metadata": {
        "id": "WIuLPpvkz6-V"
      }
    },
    {
      "cell_type": "markdown",
      "source": [
        "**Membangun Model dan Evaluasi KNN**"
      ],
      "metadata": {
        "id": "0wFQMsy9z-MA"
      }
    },
    {
      "cell_type": "code",
      "source": [
        "# Model K-Nearest Neighbors (KNN)\n",
        "print(\"\\nEvaluasi Model: K-Nearest Neighbors (KNN)\")\n",
        "knn = KNeighborsClassifier()\n",
        "knn_cv_results = model_selection.cross_val_score(knn, X_train, Y_train, cv=kfold, scoring=scoring)\n",
        "print(f\"Rata-rata Akurasi KNN: {knn_cv_results.mean():.4f}\")\n",
        "print(f\"Standar Deviasi KNN: {knn_cv_results.std():.4f}\")\n",
        "\n",
        "# Melatih dan menguji KNN pada data validasi\n",
        "knn.fit(X_train, Y_train)\n",
        "knn_predictions = knn.predict(X_validation)\n",
        "print(\"\\n--- Evaluasi KNN pada Data Validasi ---\")\n",
        "print(\"Akurasi KNN pada Data Validasi:\", accuracy_score(Y_validation, knn_predictions))\n",
        "print(\"Matriks Kebingungan KNN:\\n\", confusion_matrix(Y_validation, knn_predictions))\n",
        "print(\"Laporan Klasifikasi KNN:\\n\", classification_report(Y_validation, knn_predictions))\n"
      ],
      "metadata": {
        "colab": {
          "base_uri": "https://localhost:8080/"
        },
        "id": "305nox_4z9hl",
        "outputId": "a60781cc-b98f-4ec2-b9a9-f946324d341a"
      },
      "execution_count": 17,
      "outputs": [
        {
          "output_type": "stream",
          "name": "stdout",
          "text": [
            "\n",
            "Evaluasi Model: K-Nearest Neighbors (KNN)\n",
            "Rata-rata Akurasi KNN: 0.9833\n",
            "Standar Deviasi KNN: 0.0333\n",
            "\n",
            "--- Evaluasi KNN pada Data Validasi ---\n",
            "Akurasi KNN pada Data Validasi: 0.9\n",
            "Matriks Kebingungan KNN:\n",
            " [[ 7  0  0]\n",
            " [ 0 11  1]\n",
            " [ 0  2  9]]\n",
            "Laporan Klasifikasi KNN:\n",
            "                  precision    recall  f1-score   support\n",
            "\n",
            "    Iris-setosa       1.00      1.00      1.00         7\n",
            "Iris-versicolor       0.85      0.92      0.88        12\n",
            " Iris-virginica       0.90      0.82      0.86        11\n",
            "\n",
            "       accuracy                           0.90        30\n",
            "      macro avg       0.92      0.91      0.91        30\n",
            "   weighted avg       0.90      0.90      0.90        30\n",
            "\n"
          ]
        }
      ]
    },
    {
      "cell_type": "markdown",
      "source": [
        "Model K-Nearest Neighbors (KNN) diinisialisasi dan dievaluasi menggunakan cross-validation. Hasilnya adalah rata-rata akurasi dan standar deviasi, yang menggambarkan kinerja rata-rata model serta variasi akurasi di antara setiap fold. Setelah cross-validation, model KNN dilatih pada data latih penuh dan diuji pada data validasi, menghasilkan akurasi, matriks kebingungan, dan laporan klasifikasi untuk mengevaluasi kinerja KNN pada data yang belum pernah dilihat."
      ],
      "metadata": {
        "id": "NGnI9cgr0CBl"
      }
    },
    {
      "cell_type": "markdown",
      "source": [
        "**Membangun Model dan Evaluasi Naive Bayes**"
      ],
      "metadata": {
        "id": "YSXchlIH0Dkj"
      }
    },
    {
      "cell_type": "code",
      "source": [
        "# Model Gaussian Naive Bayes (NB)\n",
        "print(\"\\nEvaluasi Model: Gaussian Naive Bayes (NB)\")\n",
        "nb = GaussianNB()\n",
        "nb_cv_results = model_selection.cross_val_score(nb, X_train, Y_train, cv=kfold, scoring=scoring)\n",
        "print(f\"Rata-rata Akurasi NB: {nb_cv_results.mean():.4f}\")\n",
        "print(f\"Standar Deviasi NB: {nb_cv_results.std():.4f}\")\n",
        "\n",
        "# Melatih dan menguji NB pada data validasi\n",
        "nb.fit(X_train, Y_train)\n",
        "nb_predictions = nb.predict(X_validation)\n",
        "print(\"\\n--- Evaluasi NB pada Data Validasi ---\")\n",
        "print(\"Akurasi NB pada Data Validasi:\", accuracy_score(Y_validation, nb_predictions))\n",
        "print(\"Matriks Kebingungan NB:\\n\", confusion_matrix(Y_validation, nb_predictions))\n",
        "print(\"Laporan Klasifikasi NB:\\n\", classification_report(Y_validation, nb_predictions))\n"
      ],
      "metadata": {
        "colab": {
          "base_uri": "https://localhost:8080/"
        },
        "id": "mqSNO1U40Euw",
        "outputId": "989bb6d1-71fa-4637-c8cf-ab5de9836975"
      },
      "execution_count": 18,
      "outputs": [
        {
          "output_type": "stream",
          "name": "stdout",
          "text": [
            "\n",
            "Evaluasi Model: Gaussian Naive Bayes (NB)\n",
            "Rata-rata Akurasi NB: 0.9667\n",
            "Standar Deviasi NB: 0.0408\n",
            "\n",
            "--- Evaluasi NB pada Data Validasi ---\n",
            "Akurasi NB pada Data Validasi: 0.8333333333333334\n",
            "Matriks Kebingungan NB:\n",
            " [[7 0 0]\n",
            " [0 9 3]\n",
            " [0 2 9]]\n",
            "Laporan Klasifikasi NB:\n",
            "                  precision    recall  f1-score   support\n",
            "\n",
            "    Iris-setosa       1.00      1.00      1.00         7\n",
            "Iris-versicolor       0.82      0.75      0.78        12\n",
            " Iris-virginica       0.75      0.82      0.78        11\n",
            "\n",
            "       accuracy                           0.83        30\n",
            "      macro avg       0.86      0.86      0.86        30\n",
            "   weighted avg       0.84      0.83      0.83        30\n",
            "\n"
          ]
        }
      ]
    },
    {
      "cell_type": "markdown",
      "source": [
        "Pada bagian ini, model Gaussian Naive Bayes (NB) dievaluasi dengan metode yang sama seperti KNN. Cross-validation digunakan untuk menghitung rata-rata akurasi dan standar deviasi dari NB. Setelah itu, model dilatih pada data latih penuh dan diuji pada data validasi. Metrik akurasi, matriks kebingungan, dan laporan klasifikasi dihasilkan untuk menilai kinerja model NB pada data validasi."
      ],
      "metadata": {
        "id": "B235dji40GRv"
      }
    },
    {
      "cell_type": "markdown",
      "source": [
        "**Membangun Model dan Evaluasi SVM**"
      ],
      "metadata": {
        "id": "pe6p0N6X0H9R"
      }
    },
    {
      "cell_type": "code",
      "source": [
        "# Model Support Vector Machine (SVM)\n",
        "print(\"\\nEvaluasi Model: Support Vector Machine (SVM)\")\n",
        "svm = SVC()\n",
        "svm_cv_results = model_selection.cross_val_score(svm, X_train, Y_train, cv=kfold, scoring=scoring)\n",
        "print(f\"Rata-rata Akurasi SVM: {svm_cv_results.mean():.4f}\")\n",
        "print(f\"Standar Deviasi SVM: {svm_cv_results.std():.4f}\")\n",
        "\n",
        "# Melatih dan menguji SVM pada data validasi\n",
        "svm.fit(X_train, Y_train)\n",
        "svm_predictions = svm.predict(X_validation)\n",
        "print(\"\\n--- Evaluasi SVM pada Data Validasi ---\")\n",
        "print(\"Akurasi SVM pada Data Validasi:\", accuracy_score(Y_validation, svm_predictions))\n",
        "print(\"Matriks Kebingungan SVM:\\n\", confusion_matrix(Y_validation, svm_predictions))\n",
        "print(\"Laporan Klasifikasi SVM:\\n\", classification_report(Y_validation, svm_predictions))\n"
      ],
      "metadata": {
        "colab": {
          "base_uri": "https://localhost:8080/"
        },
        "id": "aS-9myjr0JIx",
        "outputId": "ed5cbc47-b270-444a-9fa5-cb2274897106"
      },
      "execution_count": 19,
      "outputs": [
        {
          "output_type": "stream",
          "name": "stdout",
          "text": [
            "\n",
            "Evaluasi Model: Support Vector Machine (SVM)\n",
            "Rata-rata Akurasi SVM: 0.9833\n",
            "Standar Deviasi SVM: 0.0333\n",
            "\n",
            "--- Evaluasi SVM pada Data Validasi ---\n",
            "Akurasi SVM pada Data Validasi: 0.8666666666666667\n",
            "Matriks Kebingungan SVM:\n",
            " [[ 7  0  0]\n",
            " [ 0 10  2]\n",
            " [ 0  2  9]]\n",
            "Laporan Klasifikasi SVM:\n",
            "                  precision    recall  f1-score   support\n",
            "\n",
            "    Iris-setosa       1.00      1.00      1.00         7\n",
            "Iris-versicolor       0.83      0.83      0.83        12\n",
            " Iris-virginica       0.82      0.82      0.82        11\n",
            "\n",
            "       accuracy                           0.87        30\n",
            "      macro avg       0.88      0.88      0.88        30\n",
            "   weighted avg       0.87      0.87      0.87        30\n",
            "\n"
          ]
        }
      ]
    },
    {
      "cell_type": "markdown",
      "source": [
        "Model Support Vector Machine (SVM) dievaluasi dengan cross-validation untuk memperoleh akurasi rata-rata dan standar deviasi. Setelah proses cross-validation, model SVM dilatih pada data latih dan diuji pada data validasi. Hasil evaluasi akhir berupa akurasi, matriks kebingungan, dan laporan klasifikasi, memberikan gambaran menyeluruh tentang kinerja SVM pada data validasi."
      ],
      "metadata": {
        "id": "VaE7wO_m0LC_"
      }
    },
    {
      "cell_type": "markdown",
      "source": [
        "**Rangkuman Hasil Cross-Validation dan Pemilihan Model Terbaik**"
      ],
      "metadata": {
        "id": "4Tt0iXD70M1f"
      }
    },
    {
      "cell_type": "code",
      "source": [
        "# Rangkuman hasil cross-validation untuk setiap model\n",
        "print(\"\\n--- Rangkuman Hasil Cross-Validation ---\")\n",
        "print(f\"KNN: Rata-rata Akurasi = {knn_cv_results.mean():.4f}, Standar Deviasi = {knn_cv_results.std():.4f}\")\n",
        "print(f\"NB: Rata-rata Akurasi = {nb_cv_results.mean():.4f}, Standar Deviasi = {nb_cv_results.std():.4f}\")\n",
        "print(f\"SVM: Rata-rata Akurasi = {svm_cv_results.mean():.4f}, Standar Deviasi = {svm_cv_results.std():.4f}\")\n",
        "\n",
        "# Memilih model terbaik berdasarkan akurasi tertinggi\n",
        "model_accuracies = {\n",
        "    \"KNN\": knn_cv_results.mean(),\n",
        "    \"NB\": nb_cv_results.mean(),\n",
        "    \"SVM\": svm_cv_results.mean()\n",
        "}\n",
        "\n",
        "best_model_name = max(model_accuracies, key=model_accuracies.get)\n",
        "print(f\"\\nModel Terbaik Berdasarkan Cross-Validation: {best_model_name}\")\n"
      ],
      "metadata": {
        "colab": {
          "base_uri": "https://localhost:8080/"
        },
        "id": "44-HkgkF0N-W",
        "outputId": "43e1868f-9fd7-4c05-a979-467196171686"
      },
      "execution_count": 20,
      "outputs": [
        {
          "output_type": "stream",
          "name": "stdout",
          "text": [
            "\n",
            "--- Rangkuman Hasil Cross-Validation ---\n",
            "KNN: Rata-rata Akurasi = 0.9833, Standar Deviasi = 0.0333\n",
            "NB: Rata-rata Akurasi = 0.9667, Standar Deviasi = 0.0408\n",
            "SVM: Rata-rata Akurasi = 0.9833, Standar Deviasi = 0.0333\n",
            "\n",
            "Model Terbaik Berdasarkan Cross-Validation: KNN\n"
          ]
        }
      ]
    },
    {
      "cell_type": "markdown",
      "source": [
        "Pada bagian ini, hasil cross-validation dari setiap model dirangkum untuk memudahkan perbandingan. Model dengan akurasi rata-rata tertinggi dipilih sebagai model terbaik. Pemilihan model terbaik membantu dalam menentukan model yang akan digunakan di tahap implementasi atau penerapan lanjutan, berdasarkan performanya pada data uji."
      ],
      "metadata": {
        "id": "ac7O7O0N0PvI"
      }
    }
  ]
}