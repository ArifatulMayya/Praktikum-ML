{
  "nbformat": 4,
  "nbformat_minor": 0,
  "metadata": {
    "colab": {
      "provenance": []
    },
    "kernelspec": {
      "name": "python3",
      "display_name": "Python 3"
    },
    "language_info": {
      "name": "python"
    }
  },
  "cells": [
    {
      "cell_type": "markdown",
      "source": [
        "Nama : Arifatul Mayya Kholidha\n",
        "\n",
        "NIM : 24060122120003\n",
        "\n",
        "LAB : ML-C1"
      ],
      "metadata": {
        "id": "yQe7LfDEGddE"
      }
    },
    {
      "cell_type": "markdown",
      "source": [
        "**Modul 6 : Principal Component Analysis**"
      ],
      "metadata": {
        "id": "hYR9tiv7F-um"
      }
    },
    {
      "cell_type": "code",
      "execution_count": 2,
      "metadata": {
        "colab": {
          "base_uri": "https://localhost:8080/"
        },
        "id": "aDZv2oMJF1yF",
        "outputId": "6fbc52a5-2152-4e49-f562-a58a172ae0cc"
      },
      "outputs": [
        {
          "output_type": "stream",
          "name": "stdout",
          "text": [
            "Dimensi dataset: (159, 16)\n",
            "  manufact    model   sales  resale type   price engine_s horsepow wheelbas  \\\n",
            "0    Acura  Integra  16.919   16.36    0    21.5      1.8      140    101.2   \n",
            "1    Acura       TL  39.384  19.875    0    28.4      3.2      225    108.1   \n",
            "2    Acura       CL  14.114  18.225    0  $null$      3.2      225    106.9   \n",
            "3    Acura       RL   8.588  29.725    0      42      3.5      210    114.6   \n",
            "4     Audi       A4  20.397  22.255    0   23.99      1.8      150    102.6   \n",
            "\n",
            "  width length curb_wgt fuel_cap mpg lnsales  partition  \n",
            "0  67.3  172.4    2.639     13.2  28   2.828          0  \n",
            "1  70.3  192.9    3.517     17.2  25   3.673          0  \n",
            "2  70.6    192     3.47     17.2  26   2.647          0  \n",
            "3  71.4  196.6     3.85       18  22    2.15          0  \n",
            "4  68.2    178    2.998     16.4  27   3.015          0  \n",
            "Kolom numerik yang dipilih: Index(['partition'], dtype='object')\n",
            "Dataset tidak memiliki cukup fitur numerik untuk PCA.\n"
          ]
        }
      ],
      "source": [
        "import pandas as pd\n",
        "from sklearn.decomposition import PCA\n",
        "from sklearn.preprocessing import StandardScaler, LabelEncoder\n",
        "\n",
        "# Memuat dataset cars_clus.csv\n",
        "dataset = pd.read_csv(\"cars_clus.csv\")\n",
        "\n",
        "# Menampilkan dimensi dan beberapa data pertama dari dataset\n",
        "print(f\"Dimensi dataset: {dataset.shape}\")\n",
        "print(dataset.head())\n",
        "\n",
        "# Memilih kolom numerik yang akan digunakan untuk PCA\n",
        "numerical_columns = dataset.select_dtypes(include=['float64', 'int64']).columns\n",
        "print(f\"Kolom numerik yang dipilih: {numerical_columns}\")\n",
        "\n",
        "# Pastikan ada lebih dari satu fitur numerik\n",
        "if len(numerical_columns) > 1:\n",
        "    cars_numerical = dataset[numerical_columns]\n",
        "\n",
        "    # Melakukan normalisasi data\n",
        "    scaler = StandardScaler()\n",
        "    cars_scaled = scaler.fit_transform(cars_numerical)\n",
        "\n",
        "    # Melakukan PCA untuk mereduksi data menjadi 2 komponen utama\n",
        "    pca = PCA(n_components=2)  # Menggunakan 2 komponen untuk visualisasi\n",
        "    cars_pca = pca.fit_transform(cars_scaled)\n",
        "\n",
        "    # Menampilkan varian yang dijelaskan oleh setiap komponen utama\n",
        "    print(f\"Explained Variance Ratio: {pca.explained_variance_ratio_}\")\n",
        "\n",
        "    # Konversi kolom 'class' menjadi angka\n",
        "    label_encoder = LabelEncoder()\n",
        "    dataset['class_encoded'] = label_encoder.fit_transform(dataset['class'])\n",
        "\n",
        "    # Visualisasi 2 komponen utama\n",
        "    plt.figure(figsize=(8, 6))\n",
        "    scatter = plt.scatter(cars_pca[:, 0], cars_pca[:, 1], c=dataset['class_encoded'], cmap='rainbow', alpha=0.7)\n",
        "    plt.title('PCA of Cars Dataset')\n",
        "    plt.xlabel('Principal Component 1')\n",
        "    plt.ylabel('Principal Component 2')\n",
        "    plt.colorbar(scatter, label='Class')  # Menambahkan color bar untuk memberi tahu kelas\n",
        "    plt.show()\n",
        "\n",
        "    # Menambahkan komponen utama ke dalam dataset untuk analisis lebih lanjut\n",
        "    dataset['PCA1'] = cars_pca[:, 0]\n",
        "    dataset['PCA2'] = cars_pca[:, 1]\n",
        "\n",
        "    # Menampilkan beberapa data setelah PCA\n",
        "    print(dataset[['PCA1', 'PCA2']].head())\n",
        "else:\n",
        "    print(\"Dataset tidak memiliki cukup fitur numerik untuk PCA.\")\n"
      ]
    },
    {
      "cell_type": "markdown",
      "source": [
        "Kode ini menganalisis dataset `cars_clus.csv` dengan mereduksi dimensi data menggunakan **PCA (Principal Component Analysis)**. Dataset dimuat menggunakan `pandas.read_csv()`, dan dimensi serta beberapa data awal ditampilkan untuk memahami struktur data. Kolom numerik dipilih menggunakan `select_dtypes()` untuk memastikan hanya data relevan yang digunakan dalam analisis. Setelah itu, data numerik dinormalisasi menggunakan **StandardScaler** agar semua fitur berada dalam skala yang sebanding, yang penting untuk performa optimal PCA.  \n",
        "\n",
        "PCA kemudian diterapkan untuk mereduksi data menjadi dua komponen utama, memungkinkan visualisasi dalam dua dimensi. Rasio variansi yang dijelaskan oleh masing-masing komponen utama ditampilkan untuk menunjukkan kontribusi tiap komponen terhadap variansi total. Selain itu, kolom `class` pada dataset dikonversi menjadi angka menggunakan **LabelEncoder**, sehingga kelas dapat digunakan sebagai warna dalam scatter plot. Scatter plot dibuat untuk memvisualisasikan distribusi data berdasarkan dua komponen utama hasil PCA, dengan warna yang menunjukkan kelas dari setiap data.  \n",
        "\n",
        "Hasil komponen utama ditambahkan kembali ke dataset dalam kolom `PCA1` dan `PCA2` untuk analisis lebih lanjut. Jika dataset tidak memiliki cukup fitur numerik untuk PCA, kode memberikan pesan peringatan. Visualisasi dan penambahan hasil PCA ke dataset memberikan wawasan yang lebih mendalam tentang struktur data dalam dimensi yang lebih rendah."
      ],
      "metadata": {
        "id": "4b7d_PZiGCTm"
      }
    }
  ]
}